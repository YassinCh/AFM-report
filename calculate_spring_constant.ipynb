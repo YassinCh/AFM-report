{
 "cells": [
  {
   "cell_type": "code",
   "execution_count": 2,
   "metadata": {},
   "outputs": [],
   "source": []
  },
  {
   "cell_type": "code",
   "execution_count": 16,
   "metadata": {},
   "outputs": [
    {
     "name": "stdout",
     "output_type": "stream",
     "text": [
      "k_doos=0.14, k_frequency=0.12608062964109282, k_geometry=0.17163237311385457\n",
      "uncertainty_k_frequency=0.031530454489882384, uncertainty_k_geometry=0.12617708014039913, uncertainty_k_doos=0.14363975969644951\n",
      "value_corrected=3.823598277966832e-08, uncertainty_value_corrected=9.562821509960638e-09\n"
     ]
    }
   ],
   "source": [
    "import numpy as np\n",
    "import scipy.stats as stats\n",
    "\n",
    "\n",
    "w = 46e-6\n",
    "w_max = 51e-6\n",
    "w_min = 41e-6\n",
    "L = 225e-6\n",
    "L_max = 235e-6\n",
    "L_min = 215e-6\n",
    "t = 1e-6\n",
    "t_min = 0.5e-6\n",
    "t_max = 1.5e-6\n",
    "omega = 23015*1.02 * 2 * np.pi\n",
    "density = 2333\n",
    "E= 170e9\n",
    "k_doos = 0.14\n",
    "k_doos_min = 0.01\n",
    "k_doos_max = 0.60\n",
    "\n",
    "z_score_96 = stats.norm.ppf((1 + 0.96) / 2)\n",
    "\n",
    "#Tranforming the 96% confidence interval to 67% confidence intervals\n",
    "sigma_w = (w_max - w_min) / (2 * z_score_96)\n",
    "sigma_L = (L_max - L_min) / (2 * z_score_96)\n",
    "sigma_t = (t_max - t_min) / (2 * z_score_96)\n",
    "\n",
    "#Calculate partial derivatives for frequency\n",
    "partial_wf = omega**2 * 0.24 * t * L * density\n",
    "partial_Lf = omega**2 * 0.24 * w * t * density\n",
    "partial_tf = omega**2 * 0.24 * w * L * density\n",
    "\n",
    "#Calculate partial derivatives for geometry\n",
    "partial_wg = (E * t**3) / (4 * L**3)\n",
    "partial_Lg = -(3 * E * w * t**3) / (4 * L**4)\n",
    "partial_tg = (3 * E * w * t**2) / (4 * L**3)\n",
    "\n",
    "#Calculate the spring constants\n",
    "k_doos = 0.14\n",
    "k_frequency = omega**2 * 0.24 *  w * t * L * 1 * density\n",
    "k_geometry = (E * w * t**3) / (4* L**3)\n",
    "\n",
    "#Calculate the uncertainty for frequency and geometry and doos\n",
    "uncertainty_k_frequency = np.sqrt((partial_wf * sigma_w)**2 + (partial_Lf * sigma_L)**2 + (partial_tf * sigma_t)**2)\n",
    "uncertainty_k_geometry = np.sqrt((partial_wg * sigma_w)**2 + (partial_Lg * sigma_L)**2 + (partial_tg * sigma_t)**2)\n",
    "uncertainty_k_doos = (k_doos_max - k_doos_min) / (2 * stats.norm.ppf((1 + 0.96) / 2))\n",
    "\n",
    "#Printing the results\n",
    "print(f\"{k_doos=}, {k_frequency=}, {k_geometry=}\")\n",
    "print(f\"{uncertainty_k_frequency=}, {uncertainty_k_geometry=}, {uncertainty_k_doos=}\")\n",
    "\n",
    "#To calculate the deflection sensitivity and uncertainty\n",
    "slope = 3297434\n",
    "sigma_slope = 10000\n",
    "deflection_sens = k_frequency / slope\n",
    "\n",
    "# Using propagation of uncertainty for division\n",
    "uncertainty_deflection_sens = deflection_sens * np.sqrt((sigma_slope / slope)**2 + (uncertainty_k_frequency / k_frequency)**2)\n",
    "\n",
    "print(f\"{deflection_sens=}, {uncertainty_deflection_sens=}\")\n",
    "\n"
   ]
  },
  {
   "cell_type": "code",
   "execution_count": 13,
   "metadata": {},
   "outputs": [
    {
     "data": {
      "text/plain": [
       "0.12617708014039913"
      ]
     },
     "execution_count": 13,
     "metadata": {},
     "output_type": "execute_result"
    }
   ],
   "source": [
    "uncertainty_k_geometry"
   ]
  },
  {
   "cell_type": "code",
   "execution_count": 4,
   "metadata": {},
   "outputs": [],
   "source": [
    "average = (k_doos + k_frequency + k_geometry) / 3\n"
   ]
  }
 ],
 "metadata": {
  "kernelspec": {
   "display_name": "Python 3",
   "language": "python",
   "name": "python3"
  },
  "language_info": {
   "codemirror_mode": {
    "name": "ipython",
    "version": 3
   },
   "file_extension": ".py",
   "mimetype": "text/x-python",
   "name": "python",
   "nbconvert_exporter": "python",
   "pygments_lexer": "ipython3",
   "version": "3.11.8"
  }
 },
 "nbformat": 4,
 "nbformat_minor": 2
}
